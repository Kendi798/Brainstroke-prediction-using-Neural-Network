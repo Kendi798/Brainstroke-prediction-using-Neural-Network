{
  "cells": [
    {
      "cell_type": "markdown",
      "metadata": {
        "id": "view-in-github",
        "colab_type": "text"
      },
      "source": [
        "<a href=\"https://colab.research.google.com/github/Kendi798/Brainstroke-prediction-using-Neural-Network/blob/main/Brain_Stroke_Prediction_Using_TensorFlow.ipynb\" target=\"_parent\"><img src=\"https://colab.research.google.com/assets/colab-badge.svg\" alt=\"Open In Colab\"/></a>"
      ]
    },
    {
      "cell_type": "markdown",
      "source": [
        "# **BRAIN STROKE PREDICTION**"
      ],
      "metadata": {
        "id": "-8sDmZnwRoEM"
      }
    },
    {
      "cell_type": "markdown",
      "source": [
        "![Brain stroke.jpg](data:image/jpeg;base64,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)"
      ],
      "metadata": {
        "id": "-fQa0gkoRg5P"
      }
    },
    {
      "cell_type": "markdown",
      "source": [
        "# **PROBLEM STATEMENT**\n",
        "\n",
        "According to the World Health Organization (WHO) stroke is the 2nd leading cause of death globally, responsible for approximately 11% of total deaths, and third leading cause of disability.\n",
        "\n",
        "Brain Stroke happens when there is a blockage in the blood circulation in the brain or when a blood vessel in the brain breaks and leaks. The burst or blockage prevents blood and oxygen reaching the brain tissue leading to the death of brain cells. This sometimes results in physical, cognitive and mental disabilities.\n",
        "\n",
        "80% of strokes are preventable. Our project aims at evaluating the factors that may increase the chances of someone getting a stroke and building a model that can accurately predict these chances. This will help many people know the risk factors of getting a stroke and how to prevent or avoid such risks and in return, many lives will be saved.\n"
      ],
      "metadata": {
        "id": "mCGF2-Ob0uQs"
      }
    },
    {
      "cell_type": "markdown",
      "metadata": {
        "id": "nFJccEtg_Xp9"
      },
      "source": [
        "# **1. Defining the Question**"
      ]
    },
    {
      "cell_type": "markdown",
      "metadata": {
        "id": "-KqASpIL_d4c"
      },
      "source": [
        "### **Specifying the Question**"
      ]
    },
    {
      "cell_type": "markdown",
      "metadata": {
        "id": "os5U7sK1AA8p"
      },
      "source": [
        "> What is the likelihood of a patient getting a stroke?"
      ]
    },
    {
      "cell_type": "markdown",
      "metadata": {
        "id": "pk6QYY1-Aemx"
      },
      "source": [
        "### **Defining the Metric for Success**"
      ]
    },
    {
      "cell_type": "markdown",
      "metadata": {
        "id": "PFI9qiczBY40"
      },
      "source": [
        "> This research will be considered solvent when we are able to predict the likelihood of a patient getting a stroke with a model with a precision score of 90% and above."
      ]
    },
    {
      "cell_type": "markdown",
      "metadata": {
        "id": "z4km_BICCrJk"
      },
      "source": [
        "### **Understanding the context**"
      ]
    },
    {
      "cell_type": "markdown",
      "metadata": {
        "id": "xxYxuS9BCwMj"
      },
      "source": [
        "> A stroke is a medical condition in which poor blood flow to the brain causes cell death. There are two main types of stroke: ischemic, due to lack of blood flow, and hemorrhagic, due to bleeding. Both cause parts of the brain to stop functioning properly.\n",
        "\n",
        "> Signs and symptoms of a stroke may include an inability to move or feel on one side of the body, problems understanding or speaking, dizziness, or loss of vision to one side. Signs and symptoms often appear soon after the stroke has occurred. If symptoms last less than one or two hours, the stroke is a transient ischemic attack (TIA), also called a mini-stroke. A hemorrhagic stroke may also be associated with a severe headache. The symptoms of a stroke can be permanent. Long-term complications may include pneumonia and loss of bladder control.\n",
        "\n",
        "> The main risk factor for stroke is high blood pressure. Other risk factors include high blood cholesterol, tobacco smoking, obesity, diabetes mellitus, a previous TIA, end-stage kidney disease, and atrial fibrillation.\n",
        "\n",
        "\n"
      ]
    },
    {
      "cell_type": "markdown",
      "metadata": {
        "id": "3dEzQxWuLS5_"
      },
      "source": [
        "### **Research Objectives**"
      ]
    },
    {
      "cell_type": "markdown",
      "metadata": {
        "id": "pgft8jUvLiGx"
      },
      "source": [
        "#### **Main Objective**\n",
        "\n",
        "To predict the likelihood of a patient getting a stroke.\n",
        "\n",
        "#### **Specific Objectives**\n",
        "\n",
        "1. To find the relationship between age, BMI, glucose level and getting a stroke\n",
        "2. To find out if hypertension and heart disease influences the likelyhood of getting a stroke\n",
        "3. To establish whether patient's who've ever married are more likely to get a stroke than those who have never married\n",
        "4. To identify the correlation between a patient's smoking status, place of residence and type of occupation and stroke\n"
      ]
    },
    {
      "cell_type": "markdown",
      "metadata": {
        "id": "hDPjt3KJHR9V"
      },
      "source": [
        "### **Recording the Experimental Design**"
      ]
    },
    {
      "cell_type": "markdown",
      "metadata": {
        "id": "vtjsUqS1HWis"
      },
      "source": [
        "* Defining the research question\n",
        "* Load data and preview preliminary characteristics of the dataset\n",
        "* Finding and dealing with outliers, anomalies, and missing data within the dataset\n",
        "* Perform exploratory data analysis\n",
        "* Implement the solution\n",
        "* Challenge the solution\n"
      ]
    },
    {
      "cell_type": "markdown",
      "metadata": {
        "id": "HTLekVShu1WG"
      },
      "source": [
        "### **Relevance of the data**\n",
        "\n",
        "> This dataset is used to predict whether a patient is likely to get stroke based on the input parameters like gender, age, various diseases, and smoking status. Each row in the data provides relavant information about the patient."
      ]
    },
    {
      "cell_type": "markdown",
      "metadata": {
        "id": "P4Tko2osQTYF"
      },
      "source": [
        "# **2. Reading and checking the data**"
      ]
    },
    {
      "cell_type": "code",
      "execution_count": 1,
      "metadata": {
        "id": "_1ds-4D6gA2N"
      },
      "outputs": [],
      "source": [
        "#Importing the relevant libraries\n",
        "import pandas as pd\n",
        "import numpy as np\n",
        "import seaborn as sns\n",
        "import matplotlib.pyplot as plt"
      ]
    },
    {
      "cell_type": "code",
      "execution_count": 2,
      "metadata": {
        "colab": {
          "base_uri": "https://localhost:8080/",
          "height": 339
        },
        "id": "1HquIXWhgUH8",
        "outputId": "6499234f-4767-486c-f674-a636731cdfbc"
      },
      "outputs": [
        {
          "output_type": "error",
          "ename": "FileNotFoundError",
          "evalue": "[Errno 2] No such file or directory: '/content/drive/MyDrive/healthcare-dataset-stroke-data.csv'",
          "traceback": [
            "\u001b[0;31m---------------------------------------------------------------------------\u001b[0m",
            "\u001b[0;31mFileNotFoundError\u001b[0m                         Traceback (most recent call last)",
            "\u001b[0;32m/tmp/ipython-input-2908058963.py\u001b[0m in \u001b[0;36m<cell line: 0>\u001b[0;34m()\u001b[0m\n\u001b[1;32m      1\u001b[0m \u001b[0;31m# Loading the dataset csv\u001b[0m\u001b[0;34m\u001b[0m\u001b[0;34m\u001b[0m\u001b[0m\n\u001b[0;32m----> 2\u001b[0;31m \u001b[0mstroke\u001b[0m \u001b[0;34m=\u001b[0m \u001b[0mpd\u001b[0m\u001b[0;34m.\u001b[0m\u001b[0mread_csv\u001b[0m\u001b[0;34m(\u001b[0m\u001b[0;34m'/content/drive/MyDrive/healthcare-dataset-stroke-data.csv'\u001b[0m\u001b[0;34m)\u001b[0m\u001b[0;34m\u001b[0m\u001b[0;34m\u001b[0m\u001b[0m\n\u001b[0m\u001b[1;32m      3\u001b[0m \u001b[0mstroke\u001b[0m\u001b[0;34m\u001b[0m\u001b[0;34m\u001b[0m\u001b[0m\n",
            "\u001b[0;32m/usr/local/lib/python3.12/dist-packages/pandas/io/parsers/readers.py\u001b[0m in \u001b[0;36mread_csv\u001b[0;34m(filepath_or_buffer, sep, delimiter, header, names, index_col, usecols, dtype, engine, converters, true_values, false_values, skipinitialspace, skiprows, skipfooter, nrows, na_values, keep_default_na, na_filter, verbose, skip_blank_lines, parse_dates, infer_datetime_format, keep_date_col, date_parser, date_format, dayfirst, cache_dates, iterator, chunksize, compression, thousands, decimal, lineterminator, quotechar, quoting, doublequote, escapechar, comment, encoding, encoding_errors, dialect, on_bad_lines, delim_whitespace, low_memory, memory_map, float_precision, storage_options, dtype_backend)\u001b[0m\n\u001b[1;32m   1024\u001b[0m     \u001b[0mkwds\u001b[0m\u001b[0;34m.\u001b[0m\u001b[0mupdate\u001b[0m\u001b[0;34m(\u001b[0m\u001b[0mkwds_defaults\u001b[0m\u001b[0;34m)\u001b[0m\u001b[0;34m\u001b[0m\u001b[0;34m\u001b[0m\u001b[0m\n\u001b[1;32m   1025\u001b[0m \u001b[0;34m\u001b[0m\u001b[0m\n\u001b[0;32m-> 1026\u001b[0;31m     \u001b[0;32mreturn\u001b[0m \u001b[0m_read\u001b[0m\u001b[0;34m(\u001b[0m\u001b[0mfilepath_or_buffer\u001b[0m\u001b[0;34m,\u001b[0m \u001b[0mkwds\u001b[0m\u001b[0;34m)\u001b[0m\u001b[0;34m\u001b[0m\u001b[0;34m\u001b[0m\u001b[0m\n\u001b[0m\u001b[1;32m   1027\u001b[0m \u001b[0;34m\u001b[0m\u001b[0m\n\u001b[1;32m   1028\u001b[0m \u001b[0;34m\u001b[0m\u001b[0m\n",
            "\u001b[0;32m/usr/local/lib/python3.12/dist-packages/pandas/io/parsers/readers.py\u001b[0m in \u001b[0;36m_read\u001b[0;34m(filepath_or_buffer, kwds)\u001b[0m\n\u001b[1;32m    618\u001b[0m \u001b[0;34m\u001b[0m\u001b[0m\n\u001b[1;32m    619\u001b[0m     \u001b[0;31m# Create the parser.\u001b[0m\u001b[0;34m\u001b[0m\u001b[0;34m\u001b[0m\u001b[0m\n\u001b[0;32m--> 620\u001b[0;31m     \u001b[0mparser\u001b[0m \u001b[0;34m=\u001b[0m \u001b[0mTextFileReader\u001b[0m\u001b[0;34m(\u001b[0m\u001b[0mfilepath_or_buffer\u001b[0m\u001b[0;34m,\u001b[0m \u001b[0;34m**\u001b[0m\u001b[0mkwds\u001b[0m\u001b[0;34m)\u001b[0m\u001b[0;34m\u001b[0m\u001b[0;34m\u001b[0m\u001b[0m\n\u001b[0m\u001b[1;32m    621\u001b[0m \u001b[0;34m\u001b[0m\u001b[0m\n\u001b[1;32m    622\u001b[0m     \u001b[0;32mif\u001b[0m \u001b[0mchunksize\u001b[0m \u001b[0;32mor\u001b[0m \u001b[0miterator\u001b[0m\u001b[0;34m:\u001b[0m\u001b[0;34m\u001b[0m\u001b[0;34m\u001b[0m\u001b[0m\n",
            "\u001b[0;32m/usr/local/lib/python3.12/dist-packages/pandas/io/parsers/readers.py\u001b[0m in \u001b[0;36m__init__\u001b[0;34m(self, f, engine, **kwds)\u001b[0m\n\u001b[1;32m   1618\u001b[0m \u001b[0;34m\u001b[0m\u001b[0m\n\u001b[1;32m   1619\u001b[0m         \u001b[0mself\u001b[0m\u001b[0;34m.\u001b[0m\u001b[0mhandles\u001b[0m\u001b[0;34m:\u001b[0m \u001b[0mIOHandles\u001b[0m \u001b[0;34m|\u001b[0m \u001b[0;32mNone\u001b[0m \u001b[0;34m=\u001b[0m \u001b[0;32mNone\u001b[0m\u001b[0;34m\u001b[0m\u001b[0;34m\u001b[0m\u001b[0m\n\u001b[0;32m-> 1620\u001b[0;31m         \u001b[0mself\u001b[0m\u001b[0;34m.\u001b[0m\u001b[0m_engine\u001b[0m \u001b[0;34m=\u001b[0m \u001b[0mself\u001b[0m\u001b[0;34m.\u001b[0m\u001b[0m_make_engine\u001b[0m\u001b[0;34m(\u001b[0m\u001b[0mf\u001b[0m\u001b[0;34m,\u001b[0m \u001b[0mself\u001b[0m\u001b[0;34m.\u001b[0m\u001b[0mengine\u001b[0m\u001b[0;34m)\u001b[0m\u001b[0;34m\u001b[0m\u001b[0;34m\u001b[0m\u001b[0m\n\u001b[0m\u001b[1;32m   1621\u001b[0m \u001b[0;34m\u001b[0m\u001b[0m\n\u001b[1;32m   1622\u001b[0m     \u001b[0;32mdef\u001b[0m \u001b[0mclose\u001b[0m\u001b[0;34m(\u001b[0m\u001b[0mself\u001b[0m\u001b[0;34m)\u001b[0m \u001b[0;34m->\u001b[0m \u001b[0;32mNone\u001b[0m\u001b[0;34m:\u001b[0m\u001b[0;34m\u001b[0m\u001b[0;34m\u001b[0m\u001b[0m\n",
            "\u001b[0;32m/usr/local/lib/python3.12/dist-packages/pandas/io/parsers/readers.py\u001b[0m in \u001b[0;36m_make_engine\u001b[0;34m(self, f, engine)\u001b[0m\n\u001b[1;32m   1878\u001b[0m                 \u001b[0;32mif\u001b[0m \u001b[0;34m\"b\"\u001b[0m \u001b[0;32mnot\u001b[0m \u001b[0;32min\u001b[0m \u001b[0mmode\u001b[0m\u001b[0;34m:\u001b[0m\u001b[0;34m\u001b[0m\u001b[0;34m\u001b[0m\u001b[0m\n\u001b[1;32m   1879\u001b[0m                     \u001b[0mmode\u001b[0m \u001b[0;34m+=\u001b[0m \u001b[0;34m\"b\"\u001b[0m\u001b[0;34m\u001b[0m\u001b[0;34m\u001b[0m\u001b[0m\n\u001b[0;32m-> 1880\u001b[0;31m             self.handles = get_handle(\n\u001b[0m\u001b[1;32m   1881\u001b[0m                 \u001b[0mf\u001b[0m\u001b[0;34m,\u001b[0m\u001b[0;34m\u001b[0m\u001b[0;34m\u001b[0m\u001b[0m\n\u001b[1;32m   1882\u001b[0m                 \u001b[0mmode\u001b[0m\u001b[0;34m,\u001b[0m\u001b[0;34m\u001b[0m\u001b[0;34m\u001b[0m\u001b[0m\n",
            "\u001b[0;32m/usr/local/lib/python3.12/dist-packages/pandas/io/common.py\u001b[0m in \u001b[0;36mget_handle\u001b[0;34m(path_or_buf, mode, encoding, compression, memory_map, is_text, errors, storage_options)\u001b[0m\n\u001b[1;32m    871\u001b[0m         \u001b[0;32mif\u001b[0m \u001b[0mioargs\u001b[0m\u001b[0;34m.\u001b[0m\u001b[0mencoding\u001b[0m \u001b[0;32mand\u001b[0m \u001b[0;34m\"b\"\u001b[0m \u001b[0;32mnot\u001b[0m \u001b[0;32min\u001b[0m \u001b[0mioargs\u001b[0m\u001b[0;34m.\u001b[0m\u001b[0mmode\u001b[0m\u001b[0;34m:\u001b[0m\u001b[0;34m\u001b[0m\u001b[0;34m\u001b[0m\u001b[0m\n\u001b[1;32m    872\u001b[0m             \u001b[0;31m# Encoding\u001b[0m\u001b[0;34m\u001b[0m\u001b[0;34m\u001b[0m\u001b[0m\n\u001b[0;32m--> 873\u001b[0;31m             handle = open(\n\u001b[0m\u001b[1;32m    874\u001b[0m                 \u001b[0mhandle\u001b[0m\u001b[0;34m,\u001b[0m\u001b[0;34m\u001b[0m\u001b[0;34m\u001b[0m\u001b[0m\n\u001b[1;32m    875\u001b[0m                 \u001b[0mioargs\u001b[0m\u001b[0;34m.\u001b[0m\u001b[0mmode\u001b[0m\u001b[0;34m,\u001b[0m\u001b[0;34m\u001b[0m\u001b[0;34m\u001b[0m\u001b[0m\n",
            "\u001b[0;31mFileNotFoundError\u001b[0m: [Errno 2] No such file or directory: '/content/drive/MyDrive/healthcare-dataset-stroke-data.csv'"
          ]
        }
      ],
      "source": [
        "# Loading the dataset csv\n",
        "stroke = pd.read_csv('/content/drive/MyDrive/healthcare-dataset-stroke-data.csv')\n",
        "stroke"
      ]
    },
    {
      "cell_type": "code",
      "source": [
        "from google.colab import drive\n",
        "drive.mount('/content/drive')"
      ],
      "metadata": {
        "id": "IMKe67Yyy1YG"
      },
      "execution_count": null,
      "outputs": []
    },
    {
      "cell_type": "code",
      "execution_count": null,
      "metadata": {
        "id": "ysnRYIPCgUT9"
      },
      "outputs": [],
      "source": [
        "# Displaying the top of our dataset\n",
        "stroke.head()"
      ]
    },
    {
      "cell_type": "code",
      "execution_count": null,
      "metadata": {
        "id": "KXG5pybUgUZP"
      },
      "outputs": [],
      "source": [
        "# Displaying the bottom of our dataset\n",
        "stroke.tail()"
      ]
    },
    {
      "cell_type": "code",
      "execution_count": null,
      "metadata": {
        "id": "XGVD_oxsgUeQ"
      },
      "outputs": [],
      "source": [
        "# Checking the shape of the dataset\n",
        "stroke.shape"
      ]
    },
    {
      "cell_type": "markdown",
      "metadata": {
        "id": "IJElxx_7iSPM"
      },
      "source": [
        "**Observations**\n",
        "> The dataset has 5110 rows and 12 columns."
      ]
    },
    {
      "cell_type": "code",
      "source": [
        "# Checking the info of our dataset\n",
        "stroke.info()"
      ],
      "metadata": {
        "id": "u-VAoxW-hUp2"
      },
      "execution_count": null,
      "outputs": []
    },
    {
      "cell_type": "markdown",
      "metadata": {
        "id": "6-FJecC6xEw9"
      },
      "source": [
        "**Observations**\n",
        "> From the output, the dataset has some null values on the bmi column. All other columns do not have any null values and each column has the appropriate datatype."
      ]
    },
    {
      "cell_type": "code",
      "execution_count": null,
      "metadata": {
        "id": "KtRn2ia6E4KT"
      },
      "outputs": [],
      "source": [
        "# Checking the columns\n",
        "list(stroke)"
      ]
    },
    {
      "cell_type": "markdown",
      "metadata": {
        "id": "p_MLfcDuPCtI"
      },
      "source": [
        "### **Explaining the Columns**\n",
        "id: unique identifier\n",
        "\n",
        "gender: \"Male\", \"Female\" or \"Other\"\n",
        "\n",
        "age: age of the patient\n",
        "\n",
        "hypertension: 0 if the patient doesn't have hypertension, 1 if the patient has hypertension\n",
        "\n",
        "heart_disease: 0 if the patient doesn't have any heart diseases, 1 if the patient has a heart disease\n",
        "\n",
        "ever_married: \"No\" or \"Yes\"\n",
        "\n",
        "work_type: \"children\", \"Govt_jov\", \"Never_worked\", \"Private\" or \"Self-employed\"\n",
        "\n",
        "Residence_type: \"Rural\" or \"Urban\"\n",
        "\n",
        "avg_glucose_level: average glucose level in blood\n",
        "\n",
        "bmi: body mass index\n",
        "\n",
        "smoking_status: \"formerly smoked\", \"never smoked\", \"smokes\" or \"Unknown\"*. \"Unknown\" means that the information is unavailable for this patient\n",
        "\n",
        "stroke: 1 if the patient had a stroke or 0 if not"
      ]
    },
    {
      "cell_type": "markdown",
      "metadata": {
        "id": "6OMNghs4LebW"
      },
      "source": [
        "# **3. External Data Source Validation**"
      ]
    },
    {
      "cell_type": "markdown",
      "metadata": {
        "id": "2umfGllHLwNz"
      },
      "source": [
        "> This was extracted from Kaggle open source."
      ]
    },
    {
      "cell_type": "markdown",
      "metadata": {
        "id": "gJEzZ7ptORFs"
      },
      "source": [
        "# **4. Data Cleaning**"
      ]
    },
    {
      "cell_type": "markdown",
      "metadata": {
        "id": "qakQbMS6eXSW"
      },
      "source": [
        "### Checking for duplicates"
      ]
    },
    {
      "cell_type": "code",
      "execution_count": null,
      "metadata": {
        "id": "4_Q2E6RdQWcV"
      },
      "outputs": [],
      "source": [
        "# Checking if we have duplicates in the dataset\n",
        "stroke.duplicated().any()"
      ]
    },
    {
      "cell_type": "markdown",
      "metadata": {
        "id": "5OfT_GSqK11z"
      },
      "source": [
        "**Observations**\n",
        "> There are no any duplicated values in the dataset."
      ]
    },
    {
      "cell_type": "markdown",
      "metadata": {
        "id": "zyY0ABYIlnpf"
      },
      "source": [
        "### Checking missing values"
      ]
    },
    {
      "cell_type": "code",
      "execution_count": null,
      "metadata": {
        "id": "C_Gdjwr-Khz7"
      },
      "outputs": [],
      "source": [
        "# Checking the total number of missing values\n",
        "print(stroke.isnull().sum())"
      ]
    },
    {
      "cell_type": "markdown",
      "metadata": {
        "id": "hiSs6Pw7r7VD"
      },
      "source": [
        "**Observations**\n",
        "> Our dataset has a total of 201 missing values in the bmi column."
      ]
    },
    {
      "cell_type": "markdown",
      "metadata": {
        "id": "ejTRaQ5cLR4x"
      },
      "source": [
        "### Removing missing values"
      ]
    },
    {
      "cell_type": "code",
      "execution_count": null,
      "metadata": {
        "id": "yQOwvCNbPmwm"
      },
      "outputs": [],
      "source": [
        "# We will drop the missing values from our dataset and assign the new dataset the variable stroke1\n",
        "\n",
        "stroke1 = stroke.dropna()\n",
        "stroke1"
      ]
    },
    {
      "cell_type": "markdown",
      "metadata": {
        "id": "RTm4L3BXQP3y"
      },
      "source": [
        "**Observations**\n",
        "> The new dataframe has 4909 rows and 12 columns"
      ]
    },
    {
      "cell_type": "code",
      "execution_count": null,
      "metadata": {
        "id": "EFTqGDzfMrzh"
      },
      "outputs": [],
      "source": [
        "# Checking if there are any missing values in the new dataframe\n",
        "stroke1.isnull().sum()"
      ]
    },
    {
      "cell_type": "markdown",
      "metadata": {
        "id": "2dzfDnVXQYeI"
      },
      "source": [
        "**Observations**\n",
        "> All the missing values have been dropped."
      ]
    },
    {
      "cell_type": "markdown",
      "metadata": {
        "id": "UUVqGNB3ejXJ"
      },
      "source": [
        "### Checking for Outliers"
      ]
    },
    {
      "cell_type": "code",
      "execution_count": null,
      "metadata": {
        "id": "IrxxRlXKR4zc"
      },
      "outputs": [],
      "source": [
        "# We will check for outliers in the numerical variables in our dataset\n",
        "# age, avg_glucose_level and bmi\n",
        "#\n",
        "fig, ax = plt.subplots(1,3, figsize=(20,8))\n",
        "fig.suptitle('Boxplots')\n",
        "sns.boxplot(data=stroke1, y = 'age', ax=ax[0])\n",
        "ax[0].set_title('Boxplot of Patient age')\n",
        "sns.boxplot(data=stroke1, y = 'avg_glucose_level', ax=ax[1], color = 'green')\n",
        "ax[1].set_title('Box Plot of Patient average glucose level')\n",
        "sns.boxplot(data=stroke1, y = 'bmi', ax=ax[2], color = 'yellow')\n",
        "ax[2].set_title('Box Plot of Patient Body Mass Index')\n",
        "plt.show()"
      ]
    },
    {
      "cell_type": "markdown",
      "metadata": {
        "id": "ZG4HM9iiVWyg"
      },
      "source": [
        "**Observations**\n",
        "> The output of the boxplots show that there are outliers. We will go ahead and check how many records of outliers we have and decide whether to remove them or use the data as is."
      ]
    },
    {
      "cell_type": "code",
      "execution_count": null,
      "metadata": {
        "id": "SAkHe5KDW6q4"
      },
      "outputs": [],
      "source": [
        "# We could also calculate the IQR for our 3 variables of interest\n",
        "# Calculating the interquatile ranges for the 3 variables in order to check for anomalies\n",
        "# IQR for age\n",
        "q1_age = stroke1['age'].quantile(0.25)\n",
        "q3_age = stroke1['age'].quantile(0.75)\n",
        "\n",
        "iqr_age = q3_age - q1_age\n",
        "print(iqr_age)\n",
        "\n",
        "# IQR for patient's average glucose level\n",
        "q1_agl = stroke1['avg_glucose_level'].quantile(0.25)\n",
        "q3_agl = stroke1['avg_glucose_level'].quantile(0.75)\n",
        "\n",
        "iqr_agl = q3_agl - q1_agl\n",
        "print(iqr_agl)\n",
        "\n",
        "# IQR for patient's bmi\n",
        "q1_bmi = stroke1['bmi'].quantile(0.25)\n",
        "q3_bmi = stroke1['bmi'].quantile(0.75)\n",
        "\n",
        "iqr_bmi = q3_bmi - q1_bmi\n",
        "print(iqr_bmi)"
      ]
    },
    {
      "cell_type": "markdown",
      "metadata": {
        "id": "BBcR-mVIZu_1"
      },
      "source": [
        "**Observations**\n",
        "> The output shows that there are 35, 36.5 and 9.6 records that are outside the interquatile ranges in the variables, age, average glucose level and bmi respectively. This data is useful in our reasearch and will therefore not be removed."
      ]
    },
    {
      "cell_type": "markdown",
      "metadata": {
        "id": "odj1KlohfWEI"
      },
      "source": [
        "### Checking distinctive values"
      ]
    },
    {
      "cell_type": "code",
      "execution_count": null,
      "metadata": {
        "id": "cw_C72WARtF_"
      },
      "outputs": [],
      "source": [
        "# Looking for unique values\n",
        "stroke1.nunique()"
      ]
    },
    {
      "cell_type": "markdown",
      "source": [
        "### Dropping unnecessary columns"
      ],
      "metadata": {
        "id": "ixttkSgNYNXs"
      }
    },
    {
      "cell_type": "code",
      "source": [
        "# We will drop the id column since it is not relevant to our research\n",
        "stroke1.drop('id', axis = 1, inplace = True)\n",
        "stroke1.head()"
      ],
      "metadata": {
        "id": "gz3TXwHQYy-r"
      },
      "execution_count": null,
      "outputs": []
    },
    {
      "cell_type": "markdown",
      "source": [
        "# **5. Exploratory Data Analysis**"
      ],
      "metadata": {
        "id": "n_qVo9lY-Hlv"
      }
    },
    {
      "cell_type": "markdown",
      "source": [
        "## Univariate Analysis\n",
        "\n",
        "\n"
      ],
      "metadata": {
        "id": "_7z1jrZL1FJ2"
      }
    },
    {
      "cell_type": "code",
      "source": [
        "# Checking the descriptive statistics of our dataset\n",
        "stroke1.describe()"
      ],
      "metadata": {
        "id": "_wBYJPWY2ir1"
      },
      "execution_count": null,
      "outputs": []
    },
    {
      "cell_type": "markdown",
      "source": [
        "**Observations**\n",
        "\n",
        "> The output of this summary shows the total number of rows, the mean value, the standard deviation of the data, the min and max values of the data, the 25th, 50th and 75th percentile of the data per each column with numerical values."
      ],
      "metadata": {
        "id": "ItEPZerM3E8u"
      }
    },
    {
      "cell_type": "code",
      "source": [
        "# Checking the unique values in our categorical variables\n",
        "stroke_cat = stroke1[['gender', 'hypertension', 'heart_disease', 'ever_married','work_type', 'Residence_type',\n",
        "                 'smoking_status', 'stroke']]\n",
        "\n",
        "for i in stroke_cat.columns:\n",
        "    print(stroke_cat[i].unique())"
      ],
      "metadata": {
        "id": "Itt_-gb8Fm87"
      },
      "execution_count": null,
      "outputs": []
    },
    {
      "cell_type": "markdown",
      "source": [
        "**Observations**\n",
        "> All the unique categories for the categorical data are displayed."
      ],
      "metadata": {
        "id": "51f_NF8eSUIG"
      }
    },
    {
      "cell_type": "code",
      "source": [
        "# Displaying the total number for each value of the categorical variable\n",
        "for i in stroke_cat:\n",
        "  print(stroke_cat[i].value_counts())"
      ],
      "metadata": {
        "id": "kfBUveMLkJ8Y"
      },
      "execution_count": null,
      "outputs": []
    },
    {
      "cell_type": "markdown",
      "source": [
        "**Observations**\n",
        "> The output shows the total number of values for each categorical variable"
      ],
      "metadata": {
        "id": "embiJxxwtOeV"
      }
    },
    {
      "cell_type": "code",
      "source": [
        "# Checking the distribution of patients age and BMI using histogram\n",
        "#\n",
        "fig,ax=plt.subplots(1,2,figsize=(20,10))\n",
        "stroke1['age'].plot.hist(ax=ax[0],bins=10,edgecolor='black',color='blue')\n",
        "ax[0].set_title('Age Distribution')\n",
        "ax[0].set_xlabel('Age of Patient')\n",
        "x1=list(range(0,95,10))\n",
        "ax[0].set_xticks(x1)\n",
        "stroke1['bmi'].plot.hist(ax=ax[1],color='green',bins=10,edgecolor='black')\n",
        "ax[1].set_title('Distribution of BMI')\n",
        "ax[1].set_xlabel('BMI of Patient')\n",
        "x2=list(range(0,75,10))\n",
        "ax[1].set_xticks(x2)\n",
        "plt.show()"
      ],
      "metadata": {
        "id": "En3tGdqjLbmw"
      },
      "execution_count": null,
      "outputs": []
    },
    {
      "cell_type": "markdown",
      "source": [
        "**Observations**\n",
        "> The output of the two histograms show that the distribution of the patient's age and BMI are symmetrical. This means that the data has a normal ditribution."
      ],
      "metadata": {
        "id": "2Mox5ePPNLCB"
      }
    },
    {
      "cell_type": "code",
      "source": [
        "# Checking the distribution of patients average glucose level using a density plot\n",
        "#\n",
        "sns.set(rc={'figure.figsize':(8,8)})\n",
        "s = sns.kdeplot(stroke1['avg_glucose_level'],shade=True)\n",
        "s.set_title('Distribution of Average Glucose Level')"
      ],
      "metadata": {
        "id": "BiRAczLfLjFe"
      },
      "execution_count": null,
      "outputs": []
    },
    {
      "cell_type": "markdown",
      "source": [
        "**Observations**\n",
        "> The output shows that the distribution of the patient's average glucose level is not symmetrical. The distribution is skewed toward the right."
      ],
      "metadata": {
        "id": "VfyZURuXNsQ9"
      }
    },
    {
      "cell_type": "code",
      "source": [
        "# Using bar charts to show the distribution of the patients with hypertension\n",
        "# and those with heart disease\n",
        "#\n",
        "fig,ax=plt.subplots(1,2,figsize=(20,10))\n",
        "stroke1['hypertension'].value_counts().plot.bar(rot=0, ax=ax[0])\n",
        "ax[0].set_title('Patients with hypertension')\n",
        "ax[0].set_xlabel('Hypertension')\n",
        "stroke1['heart_disease'].value_counts().plot.bar(rot=0, ax=ax[1], color='yellow')\n",
        "ax[1].set_title('Patients with heart disease')\n",
        "ax[1].set_xlabel('Heart Disease')\n",
        "plt.show()"
      ],
      "metadata": {
        "id": "7N9Opa6jOO3d"
      },
      "execution_count": null,
      "outputs": []
    },
    {
      "cell_type": "markdown",
      "source": [
        "**Observation**\n",
        ">The number of patients with hypertention is higher than those without and the number of patients with heart disease is higher than those without as well."
      ],
      "metadata": {
        "id": "KtiDfW-YOn7d"
      }
    },
    {
      "cell_type": "code",
      "source": [
        "# Pie chart showing the percentage number of patients per gender\n",
        "\n",
        "fig = plt.figure(figsize=(25,10))\n",
        "\n",
        "colors = ['green', 'orange', 'black']\n",
        "stroke1['gender'].value_counts().plot.pie(colors=colors, autopct='%1.1f%%', shadow=False)\n",
        "plt.title('Gender of Patient')"
      ],
      "metadata": {
        "id": "8ocnKSiyhfTn"
      },
      "execution_count": null,
      "outputs": []
    },
    {
      "cell_type": "markdown",
      "source": [
        "**Observation**\n",
        ">The number of female patients is higher than that of male patients."
      ],
      "metadata": {
        "id": "bOCKpZE4jwg8"
      }
    },
    {
      "cell_type": "code",
      "source": [
        "# A bar graph for checking if a patient has ever been married\n",
        "#\n",
        "stroke1['ever_married'].value_counts().plot.bar(rot=45, figsize=(12,7), color='maroon')\n",
        "plt.title('Patient Marital Status')\n",
        "plt.xlabel('Ever Married')\n",
        "plt.ylabel('Count')\n",
        "plt.show"
      ],
      "metadata": {
        "id": "87wSBlkvh9qU"
      },
      "execution_count": null,
      "outputs": []
    },
    {
      "cell_type": "markdown",
      "source": [
        "**Observation**\n",
        ">The number of patients who have ever been married is higher than those who have never been married"
      ],
      "metadata": {
        "id": "wn8mUhbRj6Cs"
      }
    },
    {
      "cell_type": "code",
      "source": [
        "# Pie chart showing the percentage number of patients per work type\n",
        "\n",
        "fig = plt.figure(figsize=(25,10))\n",
        "\n",
        "colors = ['red', 'orange', 'pink', 'yellow', 'navy']\n",
        "stroke1['work_type'].value_counts().plot.pie(colors=colors, autopct='%1.1f%%', shadow=False)\n",
        "plt.title('Patients per work type')"
      ],
      "metadata": {
        "id": "m44lczLPDCvu"
      },
      "execution_count": null,
      "outputs": []
    },
    {
      "cell_type": "markdown",
      "source": [
        "**Observations**\n",
        "> The output shows that the highest number of surveyed patients are in the private sector and the least number of surveyed patients are those who have never worked."
      ],
      "metadata": {
        "id": "k3CCGUr4FMG_"
      }
    },
    {
      "cell_type": "code",
      "source": [
        "# Checking a bar chart distribution for Smoking status of patients\n",
        "\n",
        "stroke1['smoking_status'].value_counts().plot.bar(rot =45,figsize=(15,7), color= 'green')\n",
        "plt.xlabel(\"Smoking Status\")\n",
        "plt.ylabel(\"Count\")\n",
        "plt.title(\"Smoking Status of the Patient \")\n",
        "plt.show()"
      ],
      "metadata": {
        "id": "FDRH6qvaBbqy"
      },
      "execution_count": null,
      "outputs": []
    },
    {
      "cell_type": "markdown",
      "source": [
        "**Observations**\n",
        "\n",
        "> The number of patients who have never smoked is higher than that of patients who are former smokers and those who are smokers.\n",
        "\n"
      ],
      "metadata": {
        "id": "bc4bY_5LY6fo"
      }
    },
    {
      "cell_type": "code",
      "source": [
        "# Bar chart for patients who have had stroke before\n",
        "\n",
        "stroke1['stroke'].value_counts().plot.bar(figsize=(12,7))\n",
        "plt.xlabel(\"Stroke\")\n",
        "plt.ylabel(\"Count\")\n",
        "plt.title(\"Patients who have heard Stroke\")\n",
        "plt.xticks(rotation = 60)\n",
        "plt.show()"
      ],
      "metadata": {
        "id": "LBF05sGOjFBx"
      },
      "execution_count": null,
      "outputs": []
    },
    {
      "cell_type": "markdown",
      "source": [
        "**Observations**\n",
        "> The number of patients who have not had stroke before is higher than those who have suffered from stroke."
      ],
      "metadata": {
        "id": "N7Ip-DBv0yng"
      }
    },
    {
      "cell_type": "markdown",
      "metadata": {
        "id": "0KHeEg0H-HmB"
      },
      "source": [
        "## Bivariate Analysis"
      ]
    },
    {
      "cell_type": "code",
      "source": [
        "# We will start by previewing our dataset\n",
        "stroke1.head()"
      ],
      "metadata": {
        "id": "3nME3RCy-HmB"
      },
      "execution_count": null,
      "outputs": []
    },
    {
      "cell_type": "code",
      "source": [
        "sns.pairplot(stroke1)\n",
        "plt.show()"
      ],
      "metadata": {
        "id": "h0DBcifofZfT"
      },
      "execution_count": null,
      "outputs": []
    },
    {
      "cell_type": "markdown",
      "source": [
        "**Observations**\n",
        "> The pairplot shows the correlation between different variables."
      ],
      "metadata": {
        "id": "ErjQ1FXF_8sh"
      }
    },
    {
      "cell_type": "code",
      "source": [
        "# Comparing the marital status of patients to their work type\n",
        "fig = plt.figure(figsize=(14,7))\n",
        "sns.countplot(x = 'work_type', hue='ever_married',data=stroke1)\n",
        "plt.xticks(rotation=60)"
      ],
      "metadata": {
        "id": "udY8MIMvolQA"
      },
      "execution_count": null,
      "outputs": []
    },
    {
      "cell_type": "markdown",
      "source": [
        "**Observations**\n",
        "> The output shows that the number of patients who have ever been married is higher than those who have never been married across all job sectors with the highest number being in the private sector."
      ],
      "metadata": {
        "id": "Fm3HpwVjonsv"
      }
    },
    {
      "cell_type": "code",
      "source": [
        "# Checking which gender is most Likely to have hypertension\n",
        "stroke1.groupby('gender')['hypertension'].value_counts().unstack(level=0).plot(kind='bar', stacked='True', figsize=(15,8))\n",
        "labels = stroke1.groupby('gender')['hypertension'].value_counts(normalize=True)\n",
        "print(labels)\n",
        "plt.xticks(rotation = 45)\n",
        "plt.xlabel(\"hypertension\")\n",
        "plt.ylabel(\"Frequency\")\n",
        "plt.title(\" Gender Vs having hypertension\")\n",
        "plt.show()"
      ],
      "metadata": {
        "id": "0Fvbn-yU-HmE"
      },
      "execution_count": null,
      "outputs": []
    },
    {
      "cell_type": "markdown",
      "source": [
        "**Observations**\n",
        "> The output shows that the number of patients with hypertension is smaller than that of the patients without hypertension. It also shows that the male patients with hypertension are fewer than female patients with hypertension."
      ],
      "metadata": {
        "id": "8K1ODoaqbNdR"
      }
    },
    {
      "cell_type": "code",
      "source": [
        "# Checking which gender is was highly affected by stroke before\n",
        "stroke1.groupby('gender')['stroke'].value_counts().unstack(level=0).plot(kind='bar', stacked='True', figsize=(15,8))\n",
        "labels = stroke1.groupby('gender')['stroke'].value_counts(normalize=False)\n",
        "print(labels)\n",
        "plt.xticks(rotation = 45)\n",
        "plt.xlabel(\"Stroke\")\n",
        "plt.ylabel(\"Frequency\")\n",
        "plt.title(\" Gender Vs having a Stroke\")\n",
        "plt.show()"
      ],
      "metadata": {
        "id": "Hja0rcXN-HmE"
      },
      "execution_count": null,
      "outputs": []
    },
    {
      "cell_type": "markdown",
      "source": [
        "**Observations**\n",
        "> The output shows that the number of patients without stroke is higher than that of the patients with stroke. It also shows that the number of female patients with stroke is higher than that of male patients."
      ],
      "metadata": {
        "id": "RXbQaZAqaqLa"
      }
    },
    {
      "cell_type": "code",
      "source": [
        "# Checking which gender is most Likely to smoke\n",
        "stroke1.groupby('gender')['smoking_status'].value_counts().unstack(level=0).plot(kind='bar', stacked='True', figsize=(15,8))\n",
        "labels = stroke1.groupby('gender')['smoking_status'].value_counts(normalize=True)\n",
        "print(labels)\n",
        "plt.xticks(rotation = 45)\n",
        "plt.xlabel(\"smoking_status\")\n",
        "plt.ylabel(\"Frequency\")\n",
        "plt.title(\" Gender Vs Smoking Status\")\n",
        "plt.show()"
      ],
      "metadata": {
        "id": "AsXw9H31d4YH"
      },
      "execution_count": null,
      "outputs": []
    },
    {
      "cell_type": "markdown",
      "source": [
        "**Observations**\n",
        "> The number of female patients who have never smoked is higher than that of male patients. Female patients who smoke are also more than their male counterparts."
      ],
      "metadata": {
        "id": "lSBa0s_kpUvq"
      }
    },
    {
      "cell_type": "code",
      "source": [
        "# Checking which gender has the highest number of patients who have ever been married\n",
        "stroke1.groupby('gender')['ever_married'].value_counts().unstack(level=0).plot(kind='bar', stacked='True', figsize=(15,8))\n",
        "labels = stroke1.groupby('gender')['ever_married'].value_counts(normalize=True)\n",
        "print(labels)\n",
        "plt.xticks(rotation = 45)\n",
        "plt.xlabel(\"ever_married\")\n",
        "plt.ylabel(\"Frequency\")\n",
        "plt.title(\" Gender Vs Married Status\")\n",
        "plt.show()"
      ],
      "metadata": {
        "id": "ZgGFtBZgkUV5"
      },
      "execution_count": null,
      "outputs": []
    },
    {
      "cell_type": "code",
      "source": [
        "# Checking if the heart disease influences the chances of one getting a stroke\n",
        "\n",
        "fig,ax=plt.subplots(1,2,figsize=(16,8))\n",
        "\n",
        "sns.countplot(x = 'hypertension', hue='stroke',data=stroke1,ax=ax[0])\n",
        "ax[0].set_title('Hypertension vs stroke')\n",
        "\n",
        "sns.countplot(x = 'heart_disease',hue='stroke',data=stroke1,ax=ax[1])\n",
        "ax[1].set_title('Heart Disease vs Stroke')\n",
        "\n",
        "for ax in fig.axes:\n",
        "  plt.sca(ax)\n",
        "  plt.xticks(rotation=60)\n",
        "\n",
        "plt.show()"
      ],
      "metadata": {
        "id": "h5oZqwIvdtvI"
      },
      "execution_count": null,
      "outputs": []
    },
    {
      "cell_type": "code",
      "source": [
        "# Checking which residence type has the highest number of stroke patients\n",
        "Residence = stroke1.groupby(stroke1['Residence_type'])['stroke'].sum()\n",
        "colors = ['green', 'skyblue']\n",
        "Residence.plot(kind='pie', autopct='%1.1f%%', title='Residence area of people who had stroke', figsize=(20,10), colors = colors)"
      ],
      "metadata": {
        "id": "hk_Y3zGQwZro"
      },
      "execution_count": null,
      "outputs": []
    },
    {
      "cell_type": "markdown",
      "source": [
        "**Observation**\n",
        "> The output shows the patients with stroke were more in the urban areas than in the rural residence."
      ],
      "metadata": {
        "id": "N36m94TNbf2B"
      }
    },
    {
      "cell_type": "code",
      "source": [
        "# Ploting a bar graph to show age distribution per each gender\n",
        "#\n",
        "fig = plt.figure(figsize=(15,7))\n",
        "w = sns.barplot(data= stroke1, x = 'gender', y = 'age', color='yellow')\n",
        "w.set_title('Distribution of age against gender')\n",
        "plt.show()"
      ],
      "metadata": {
        "id": "x0J3Hv0GqdgU"
      },
      "execution_count": null,
      "outputs": []
    },
    {
      "cell_type": "markdown",
      "source": [
        "**Observation**\n",
        "> The output shows the average age of female patients is higher than that of male patients and others."
      ],
      "metadata": {
        "id": "p6gK9IbPc_0D"
      }
    },
    {
      "cell_type": "code",
      "metadata": {
        "id": "75jqCuigX0dj"
      },
      "source": [
        "#Relationship between residence, work type and stroke\n",
        "\n",
        "pd.crosstab([stroke1.Residence_type, stroke1.stroke]\n",
        "            ,stroke1.work_type, margins=True).style.background_gradient(cmap='Pastel1_r')\n"
      ],
      "execution_count": null,
      "outputs": []
    },
    {
      "cell_type": "markdown",
      "source": [
        "**Observations**\n",
        "\n",
        "> From the output, more women have had stroke compared to men. We also see that people working in the private sector have a high change to get a stroke."
      ],
      "metadata": {
        "id": "9nDNQAwX3tmZ"
      }
    },
    {
      "cell_type": "code",
      "metadata": {
        "id": "YNg363GFh0F-"
      },
      "source": [
        "# How does marital status and smoking status affect stroke?\n",
        "\n",
        "pd.crosstab([stroke1.ever_married,stroke1.stroke]\n",
        "            ,stroke1.smoking_status,margins=True).style.background_gradient(cmap='Pastel1_r')\n"
      ],
      "execution_count": null,
      "outputs": []
    },
    {
      "cell_type": "markdown",
      "source": [
        "**Observations**\n",
        "\n",
        "> From the output, people who have ever been married had stroke more than those who have never been married. We also see that people who have never smoked for both the ever married and those who have never been married had higher chances of stroke."
      ],
      "metadata": {
        "id": "5tpoH4Yl4sJz"
      }
    },
    {
      "cell_type": "code",
      "source": [
        "# Distribution of the ages of stroke patients across the different genders\n",
        "stroke_age = stroke1.loc[stroke1['stroke']== 1].reset_index()\n",
        "stroke_age[\"male_age\"]=stroke_age[stroke_age[\"gender\"]==\"Male\"][\"age\"]\n",
        "stroke_age[\"female_age\"]=stroke_age[stroke_age[\"gender\"]==\"Female\"][\"age\"]\n",
        "stroke_age[[\"male_age\",\"female_age\"]].plot(kind=\"hist\", bins=20, figsize=(15,7), title=\"Stroke Ages\")\n",
        "plt.xlabel('Ages')\n",
        "plt.ylabel('Count')"
      ],
      "metadata": {
        "id": "h5I6RfR73DAw"
      },
      "execution_count": null,
      "outputs": []
    },
    {
      "cell_type": "markdown",
      "source": [
        "**Observation**\n",
        "> The number of female patients with stroke is higher than that of male patients. The distribution also shows that chances of getting a stroke increases with age."
      ],
      "metadata": {
        "id": "ByxS2kKPcKe3"
      }
    },
    {
      "cell_type": "code",
      "source": [
        "#Checking for correlation between our variables\n",
        "stroke1.corr()"
      ],
      "metadata": {
        "id": "OJWsjxxKXW38"
      },
      "execution_count": null,
      "outputs": []
    },
    {
      "cell_type": "code",
      "source": [
        "# Heat map\n",
        "plt.figure(figsize=(15,7))\n",
        "sns.heatmap(stroke1.corr(), annot= True,)"
      ],
      "metadata": {
        "id": "qRnnJuzwQxSA"
      },
      "execution_count": null,
      "outputs": []
    },
    {
      "cell_type": "markdown",
      "source": [
        "**Observations**\n",
        "\n",
        "From the observation, there is no any high correlation between stroke and other variables.\n",
        "\n",
        "There is a small positive correlation between stroke and Age, Hypertension, Heart Disease, Average Glucose Level.\n",
        "\n",
        "Small positive correlation between Age and Stroke, Hypertension, Heart Disease, Average Glucose Level, BMI.\n",
        "\n",
        "Small positive correlation between Smoking Status and Marital Status, Occupation Type and BMI.\n",
        "\n",
        "Medium positive correlation between Age and Occupation Type.\n",
        "\n",
        "Medium negative correlation between Age and Marital Status."
      ],
      "metadata": {
        "id": "-jbCuH54eTQG"
      }
    },
    {
      "cell_type": "markdown",
      "source": [
        "# **6. Implementing the Solution**"
      ],
      "metadata": {
        "id": "7k1qF33nVPIa"
      }
    },
    {
      "cell_type": "markdown",
      "source": [
        "### **Encoding**"
      ],
      "metadata": {
        "id": "5hwLeYOTIQQp"
      }
    },
    {
      "cell_type": "code",
      "source": [
        "# Converting categorical values to numerical\n",
        "# importing LabelEncoder for categorical variables with binary values\n",
        "from sklearn.preprocessing import LabelEncoder\n",
        "\n",
        "# instantiate labelencoder object\n",
        "le = LabelEncoder()\n",
        "\n",
        "# apply le on categorical feature columns\n",
        "categorical_cols = ['gender', 'ever_married', 'Residence_type']\n",
        "stroke1[categorical_cols] = stroke1[categorical_cols].apply(lambda col: le.fit_transform(col))\n",
        "stroke1.head(5)"
      ],
      "metadata": {
        "id": "ljSiMwfw9S5g"
      },
      "execution_count": null,
      "outputs": []
    },
    {
      "cell_type": "markdown",
      "source": [
        "**Observations**\n",
        "\n",
        "The data has been transformed into numerical as follows:\n",
        "\n",
        "gender:\n",
        "> 1 = Male, 0 = Female\n",
        "\n",
        "ever married:\n",
        "> 1 = Yes, 0 = No\n",
        "\n",
        "Residence type:\n",
        "> 1 = Urban, 0 = Rural"
      ],
      "metadata": {
        "id": "g5FjwpBv_5Zn"
      }
    },
    {
      "cell_type": "code",
      "source": [
        "# Encoding categorical data with more than 2 values using get_dummies\n",
        "stroke2 = pd.get_dummies(stroke1, columns=['work_type','smoking_status'], drop_first=False)\n",
        "stroke2.head()"
      ],
      "metadata": {
        "id": "GG-zn4rX2bTa"
      },
      "execution_count": null,
      "outputs": []
    },
    {
      "cell_type": "markdown",
      "source": [
        "**Observations**\n",
        "> Our dataset has received additional dummy variables. This is because the 'work_type' and 'smoking_status' variables have been split into different variables each representing a specific category."
      ],
      "metadata": {
        "id": "F-XbH20tf123"
      }
    },
    {
      "cell_type": "code",
      "source": [
        "# Previewing the shape of our encoded dataset\n",
        "stroke2.shape"
      ],
      "metadata": {
        "id": "owmD0i1r5Z3q"
      },
      "execution_count": null,
      "outputs": []
    },
    {
      "cell_type": "markdown",
      "source": [
        "**Observations**\n",
        "> After encoding, our dataset now has 4909 rows and 18 columns."
      ],
      "metadata": {
        "id": "TUaGxke0fV44"
      }
    },
    {
      "cell_type": "markdown",
      "source": [
        "### **Splitting the data**"
      ],
      "metadata": {
        "id": "G6CLMYCaIsuS"
      }
    },
    {
      "cell_type": "code",
      "source": [
        "# Splitting the dataset into train and test using train test split\n",
        "# We will use a test size of 25%\n",
        "#\n",
        "from sklearn.model_selection import train_test_split\n",
        "\n",
        "X=stroke2.drop('stroke',axis=1)\n",
        "y=stroke2['stroke']\n",
        "\n",
        "X_train,X_test,y_train,y_test=train_test_split(X,y,test_size=.25,random_state=0)"
      ],
      "metadata": {
        "id": "tR76GAfjZt2m"
      },
      "execution_count": null,
      "outputs": []
    },
    {
      "cell_type": "code",
      "source": [
        "# Checking the shapes of our feature variables\n",
        "X.shape, X_train.shape, X_test.shape"
      ],
      "metadata": {
        "id": "PGZJNvqyynnO"
      },
      "execution_count": null,
      "outputs": []
    },
    {
      "cell_type": "markdown",
      "source": [
        "**Observations**\n",
        "> Our feature variables have 4909 rows and 17 columns, X_train has 3681 rows and 17 columns and X_test has 1228 rows and 17 columns."
      ],
      "metadata": {
        "id": "oTKv24yIgf_L"
      }
    },
    {
      "cell_type": "code",
      "source": [
        "# Checking the shapes of our target variable\n",
        "y.shape, y_train.shape, y_test.shape"
      ],
      "metadata": {
        "id": "LoLmsJbS0j3i"
      },
      "execution_count": null,
      "outputs": []
    },
    {
      "cell_type": "markdown",
      "source": [
        "**Observations**\n",
        "> Our target variables have 4909 rows y_train has 3681 rows  and y_test has 1228 rows."
      ],
      "metadata": {
        "id": "cHqntBFrhTgr"
      }
    },
    {
      "cell_type": "code",
      "source": [
        "# Checking the target variable to see if the classes are balanced\n",
        "#\n",
        "y_train.value_counts()"
      ],
      "metadata": {
        "id": "CRbMC71vU1GC"
      },
      "execution_count": null,
      "outputs": []
    },
    {
      "cell_type": "markdown",
      "source": [
        "**Observations**\n",
        "\n",
        "> The output shows that 3521 patients do not have stroke while only 160 of them have stroke. This means that our target variable is imbalanced."
      ],
      "metadata": {
        "id": "JOMiGYXFVCtI"
      }
    },
    {
      "cell_type": "code",
      "source": [
        "stroke2['stroke'].value_counts()"
      ],
      "metadata": {
        "id": "DF0se8lbcbbU"
      },
      "execution_count": null,
      "outputs": []
    },
    {
      "cell_type": "markdown",
      "source": [
        "### **Normalization of data**"
      ],
      "metadata": {
        "id": "6uMUV4wnJESb"
      }
    },
    {
      "cell_type": "code",
      "source": [
        "# We will normalize our data by using StandardScaler\n",
        "# Initialize the scaler\n",
        "#\n",
        "from sklearn.preprocessing import StandardScaler\n",
        "scaler = StandardScaler()\n",
        "\n",
        "# Fitting the scaler\n",
        "scaler.fit(X_train)\n",
        "\n",
        "# Applying the transformation to the data\n",
        "X_train = scaler.transform(X_train)\n",
        "\n",
        "X_test = scaler.transform(X_test)"
      ],
      "metadata": {
        "id": "aHmWaIz1ah9s"
      },
      "execution_count": null,
      "outputs": []
    },
    {
      "cell_type": "markdown",
      "source": [
        "### **Training our Model**"
      ],
      "metadata": {
        "id": "roARFSEzJazs"
      }
    },
    {
      "cell_type": "code",
      "source": [
        "# we will train our model using Neural Network's Tensorflow library\n",
        "import tensorflow as tf\n",
        "tf.random.set_seed(0)\n",
        "\n",
        "# We will use the sequential model\n",
        "\n",
        "model = tf.keras.Sequential([\n",
        "    tf.keras.layers.Dense(80, activation = 'relu'),\n",
        "    tf.keras.layers.Dense(60, activation = 'relu'),\n",
        "    tf.keras.layers.Dense(1, activation = 'sigmoid')\n",
        "                             ])\n",
        "\n",
        "model.compile(\n",
        "    loss=tf.keras.losses.binary_crossentropy,\n",
        "    optimizer=tf.keras.optimizers.Adam(),\n",
        "    metrics=[\n",
        "        tf.keras.metrics.BinaryAccuracy(name='accuracy'),\n",
        "        tf.keras.metrics.Precision(name='precision'),\n",
        "        tf.keras.metrics.Recall(name='recall'),\n",
        "    ])\n",
        "\n",
        "# Modeling\n",
        "# We will now fit the X_train and y_train into our algorithm\n",
        "# and save our mode under the variable history\n",
        "#\n",
        "history = model.fit(X_train, y_train, epochs = 10)"
      ],
      "metadata": {
        "id": "TIwlCpnfPkoK"
      },
      "execution_count": null,
      "outputs": []
    },
    {
      "cell_type": "code",
      "source": [
        "# We then visualize the metrics to see how the model is performing\n",
        "#\n",
        "plt.figure(figsize=(16, 8))\n",
        "plt.plot(history.history['loss'], label = 'Loss')\n",
        "plt.plot(history.history['accuracy'], label = 'Accuracy')\n",
        "plt.plot(history.history['precision'], label = 'Precision')\n",
        "plt.plot(history.history['recall'], label = 'Recall')\n",
        "plt.title('Evaluation metrics', size=20)\n",
        "plt.xlabel('Epoch', size=14)\n",
        "plt.legend()"
      ],
      "metadata": {
        "id": "U4jfqk__Qot6"
      },
      "execution_count": null,
      "outputs": []
    },
    {
      "cell_type": "markdown",
      "source": [
        "**Observations**\n",
        "> From the output, we note that the loss function decreases, the accuracy increases slightly then remains almost constant, the precision keeps fluctuating with a few spikes and the recall increases then decreases slightly as the model continues to train."
      ],
      "metadata": {
        "id": "xPSYl04uRmzX"
      }
    },
    {
      "cell_type": "markdown",
      "source": [
        "### **Prediction and Evaluation**"
      ],
      "metadata": {
        "id": "8xUlR07HRiTp"
      }
    },
    {
      "cell_type": "code",
      "source": [
        "# Using our model to make predictions\n",
        "#\n",
        "pred = model.predict(X_test)\n",
        "\n",
        "# extract the predicted class labels\n",
        "pred = np.where(pred > 0.5, 1, 0)"
      ],
      "metadata": {
        "id": "zAhK2TnfRbG1"
      },
      "execution_count": null,
      "outputs": []
    },
    {
      "cell_type": "code",
      "source": [
        "# Evaluating the model\n",
        "#\n",
        "from sklearn.metrics import classification_report, confusion_matrix\n",
        "\n",
        "confusion_matrix = confusion_matrix(y_test, pred)\n",
        "print(confusion_matrix)\n",
        "\n",
        "# Looking at the classification report\n",
        "print(classification_report(y_test, pred))"
      ],
      "metadata": {
        "id": "-5BCpjcNQjr1"
      },
      "execution_count": null,
      "outputs": []
    },
    {
      "cell_type": "markdown",
      "source": [
        "**Observations**\n",
        "> The results from the confusion matrix tell us that 1179 and 1 are the number of correct predictions while 48 and 0 are the number of incorrect predictions. The model performance has a precision score of 96% and 100%, recall of 100% and 0.2%, and f1-score of 98% and 0.4% on patients without stroke and patients with stroke respectively."
      ],
      "metadata": {
        "id": "VYK1SkJ_WG7B"
      }
    },
    {
      "cell_type": "markdown",
      "source": [
        "# **7. Challenging the solution**"
      ],
      "metadata": {
        "id": "uqRbt2TQXH1r"
      }
    },
    {
      "cell_type": "markdown",
      "source": [
        "We will now challenge our solution by trying to remove the class inbalance from our target variable and using a different optimizer on our model. We will also use another algorithm to see if the model's accurancy and precision scores will be better."
      ],
      "metadata": {
        "id": "k6qMtvaeXPRF"
      }
    },
    {
      "cell_type": "code",
      "source": [
        "# Before training the model, we will firts start by removing the class imbalance\n",
        "# import SMOTE oversampling\n",
        "from collections import Counter\n",
        "from imblearn.over_sampling import SMOTE\n",
        "\n",
        "# summarize class distribution\n",
        "print(\"Before oversampling: \",Counter(y_train))\n",
        "\n",
        "# define oversampling strategy\n",
        "SMOTE = SMOTE()\n",
        "\n",
        "# fit and apply the transform\n",
        "X_train_SMOTE, y_train_SMOTE = SMOTE.fit_resample(X_train, y_train)\n",
        "\n",
        "# summarize class distribution\n",
        "print(\"After oversampling: \",Counter(y_train_SMOTE))"
      ],
      "metadata": {
        "id": "kJGs8wTrUPBC"
      },
      "execution_count": null,
      "outputs": []
    },
    {
      "cell_type": "markdown",
      "source": [
        "**Observations**\n",
        "\n",
        "> After applying SMOTE oversampling, the classes have balanced with 3521 records each."
      ],
      "metadata": {
        "id": "7GicwhdivAXP"
      }
    },
    {
      "cell_type": "code",
      "source": [
        "# Now that we have removed the imbalance, we will train our model using the\n",
        "# stochastic gradient descent Optimizer.\n",
        "#\n",
        "import tensorflow as tf\n",
        "tf.random.set_seed(0)\n",
        "\n",
        "# We will use the sequential model\n",
        "\n",
        "model_new = tf.keras.Sequential([\n",
        "    tf.keras.layers.Dense(80, activation = 'relu'),\n",
        "    tf.keras.layers.Dense(60, activation = 'relu'),\n",
        "    tf.keras.layers.Dense(1, activation = 'sigmoid')\n",
        "                             ])\n",
        "\n",
        "model_new.compile(\n",
        "    loss=tf.keras.losses.binary_crossentropy,\n",
        "    optimizer=tf.keras.optimizers.SGD(learning_rate=0.03),\n",
        "    metrics=[\n",
        "        tf.keras.metrics.BinaryAccuracy(name='accuracy'),\n",
        "        tf.keras.metrics.Precision(name='precision'),\n",
        "        tf.keras.metrics.Recall(name='recall'),\n",
        "    ])\n",
        "\n",
        "new = model_new.fit(X_train_SMOTE, y_train_SMOTE, epochs = 10)"
      ],
      "metadata": {
        "id": "c8Pp18Enu_n4"
      },
      "execution_count": null,
      "outputs": []
    },
    {
      "cell_type": "markdown",
      "source": [
        "**Observations**\n",
        "> The loss function decreases as the training increases, accuracy, precision and recall increases as the model continuous to train."
      ],
      "metadata": {
        "id": "nvHsukrM5fs7"
      }
    },
    {
      "cell_type": "code",
      "source": [
        "# We then visualize the metrics to see how the model is performing\n",
        "#\n",
        "plt.figure(figsize=(16, 8))\n",
        "plt.plot(new.history['loss'], label = 'Loss')\n",
        "plt.plot(new.history['accuracy'], label = 'Accuracy')\n",
        "plt.plot(new.history['precision'], label = 'Precision')\n",
        "plt.plot(new.history['recall'], label = 'Recall')\n",
        "plt.title('Evaluation metrics', size=20)\n",
        "plt.xlabel('Epoch', size=14)\n",
        "plt.legend()"
      ],
      "metadata": {
        "id": "QLot6kXdwjnF"
      },
      "execution_count": null,
      "outputs": []
    },
    {
      "cell_type": "markdown",
      "source": [
        "**Observations**\n",
        "> From the output, we note that the loss function decreases while the accuracy, recall and Precision increase as the model training increases."
      ],
      "metadata": {
        "id": "N03BKQTlao25"
      }
    },
    {
      "cell_type": "code",
      "source": [
        "# Using our model to make predictions\n",
        "#\n",
        "pred = model_new.predict(X_test)\n",
        "\n",
        "# extract the predicted class labels\n",
        "pred_new = np.where(pred > 0.5, 1, 0)"
      ],
      "metadata": {
        "id": "iKrBQKChsLVB"
      },
      "execution_count": null,
      "outputs": []
    },
    {
      "cell_type": "code",
      "source": [
        "# Evaluating the model\n",
        "#\n",
        "from sklearn.metrics import classification_report, confusion_matrix\n",
        "\n",
        "confusion_matrix = confusion_matrix(y_test, pred_new)\n",
        "print(confusion_matrix)\n",
        "\n",
        "# Looking at the classification report\n",
        "print(classification_report(y_test, pred_new))"
      ],
      "metadata": {
        "id": "_kRr8l3KsG4Z"
      },
      "execution_count": null,
      "outputs": []
    },
    {
      "cell_type": "markdown",
      "source": [
        "**Observations**\n",
        "> The results from the confusion matrix tell us that 889 and 27 are the number of correct predictions while 22 and 290 are the number of incorrect predictions. The model performance has a precision score of 98% and 0.9%, recall of 75% and 55%, and f1-score of 85% and 15% on patients without stroke and patients with stroke respectively. The precision score on stroke patients has decreased while the recall has increased compared to results before handling the class imbalance and using Adam optimizer."
      ],
      "metadata": {
        "id": "PGImHIAx9J6W"
      }
    },
    {
      "cell_type": "code",
      "source": [
        "# We will now use Support Vector Machine algorithm to predict and\n",
        "# evaluate the performance of the model\n",
        "# import SVM libraries\n",
        "#\n",
        "from sklearn.svm import SVC\n",
        "from sklearn.metrics import classification_report, confusion_matrix\n",
        "\n",
        "model=SVC()\n",
        "clf = model.fit(X_train_SMOTE, y_train_SMOTE)\n",
        "pred_svc = clf.predict(X_test)\n",
        "\n",
        "confusion_matrix = confusion_matrix(y_test, pred_svc)\n",
        "print(confusion_matrix)\n",
        "print(classification_report(y_test, pred_svc))"
      ],
      "metadata": {
        "id": "90-JJZoMxjfd"
      },
      "execution_count": null,
      "outputs": []
    },
    {
      "cell_type": "markdown",
      "source": [
        "**Observations**\n",
        "> The output tells us that 989 and 19 are the number of correct predictions while 30 and 190 are the number of incorrect predictions. The model has a precision score of 97% and 0.9%, recall of 84% and 39%, and f1-score of 90% and 15% on patients without stroke and patients with stroke respectively.  The precision score and recall have decreased compared to performance using Neural Network Tensorflow with SGD as the optimizer."
      ],
      "metadata": {
        "id": "9eEDfnMD-Kv7"
      }
    },
    {
      "cell_type": "markdown",
      "source": [
        "# **8. Follow up questions**"
      ],
      "metadata": {
        "id": "hNhHRpgCothh"
      }
    },
    {
      "cell_type": "markdown",
      "source": [
        "### a). Did we have the right data?\n",
        "\n",
        "The given data was relevant in answering our research question as we were able to effectively investigate the given variables and gain insights on the characteristics of stroke patients in the given population."
      ],
      "metadata": {
        "id": "4k03xvAOo-fe"
      }
    },
    {
      "cell_type": "markdown",
      "source": [
        "### b). Do we need other data to answer our question?\n",
        "In order to properly understand and predict the chances of one getting a stroke, we could also investigate the characteristics of more variables of stroke patients such as other health conditions associated with stroke patients, lifestyle of stroke patients and health care accessibility."
      ],
      "metadata": {
        "id": "wmMo8wZipC-q"
      }
    },
    {
      "cell_type": "markdown",
      "source": [
        "### c). Did we have the right question?\n",
        "Our question was right because it enabled us have correct objectives that enabled us create a model that would predict the chances of a patient getting a stroke."
      ],
      "metadata": {
        "id": "aONQsXQ7pErZ"
      }
    },
    {
      "cell_type": "markdown",
      "source": [
        "# **9. Recommendations**\n",
        "\n",
        "1. We patients living with hypertension and heart disease to get better medical care so as to reduce the chances of getting a stroke.\n",
        "\n",
        "2. Individuals who smoke should stop smoking as they risk the chances of getting a stroke.\n",
        "\n",
        "3. As people age, they should get checked regularly to minimize the chances of getting a stroke because the chances of getting a stroke increases with age.\n",
        "\n",
        "4. People leaving in urban areas and working in the private sector should immediately seek medical advise as soon as they start getting symptoms of a stroke as they stand a higher chance of getting a stroke."
      ],
      "metadata": {
        "id": "pF989LaKdN1q"
      }
    },
    {
      "cell_type": "markdown",
      "source": [
        "# **10. Conclusion**\n",
        "\n",
        "Although investigating the characteristics of more variables of stroke patients such as health and lifestyle conditions associated with stroke patients would have brought more perspective to our reasearch, the given data was still sufficient in answering our research question and meet the set objectives. This is because we were able to effectively investigate the given variables and build a model using Neural Network Tensorflow, that would correctly predict the chances of a patient getting a stroke with an accuracy of 96% and a precision of 100%."
      ],
      "metadata": {
        "id": "9V-VKQxINbQ8"
      }
    }
  ],
  "metadata": {
    "colab": {
      "provenance": [],
      "collapsed_sections": [
        "p_MLfcDuPCtI",
        "4k03xvAOo-fe",
        "wmMo8wZipC-q"
      ],
      "include_colab_link": true
    },
    "kernelspec": {
      "display_name": "Python 3",
      "name": "python3"
    },
    "language_info": {
      "name": "python"
    }
  },
  "nbformat": 4,
  "nbformat_minor": 0
}